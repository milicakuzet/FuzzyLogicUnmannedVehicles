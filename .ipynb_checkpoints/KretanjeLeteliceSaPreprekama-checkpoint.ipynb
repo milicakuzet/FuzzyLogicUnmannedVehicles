{
 "cells": [
  {
   "cell_type": "code",
   "execution_count": 228,
   "id": "261706c9-47f2-455e-b18e-61f2c4f10ea1",
   "metadata": {},
   "outputs": [],
   "source": [
    "import numpy as np\n",
    "import skfuzzy as fuzz\n",
    "from skfuzzy import control as ctrl\n",
    "from matplotlib import pyplot as plt"
   ]
  },
  {
   "cell_type": "code",
   "execution_count": 229,
   "id": "97c11768-61cc-43ad-b731-09b6dcd703ca",
   "metadata": {},
   "outputs": [],
   "source": [
    "prepreke = [(5,5), (10,15), (20,20), (15,5)]"
   ]
  },
  {
   "cell_type": "code",
   "execution_count": 230,
   "id": "144c8a2e-f952-4a7c-a830-1f28489958e3",
   "metadata": {},
   "outputs": [],
   "source": [
    "def udaljenost_do_prepreka(x_uav, y_uav, prepreke):\n",
    "    udaljenosti = []\n",
    "    for prepreka in prepreke:\n",
    "        x_p, y_p= prepreka\n",
    "        dist = np.sqrt((x_p - x_uav)**2 + (y_p - y_uav)**2) #euklidsko rastojanje\n",
    "        udaljenosti.append(dist)\n",
    "    return udaljenosti"
   ]
  },
  {
   "cell_type": "code",
   "execution_count": 231,
   "id": "4262cf26-3897-4d07-a0d5-9190c22e1e7a",
   "metadata": {},
   "outputs": [],
   "source": [
    "udaljenost = ctrl.Antecedent(np.arange(0,501,1), 'udaljenost') #ulazna fuzzy prom koja predstavlja udaljenost do prepreka\n",
    "ugao_ka_prepreci= ctrl.Antecedent(np.arange(-180,181,1), 'ugao_ka_prepreci') #izlazna fuzzy prom koja predstavlja promenu smera UAV"
   ]
  },
  {
   "cell_type": "code",
   "execution_count": 232,
   "id": "79bd9c52-262b-4931-b078-6ea6593efd83",
   "metadata": {},
   "outputs": [],
   "source": [
    "brzina=ctrl.Consequent(np.arange(0,101,1), 'brzina')\n",
    "ugao_promene=ctrl.Consequent(np.arange(-180,181,1), 'ugao_promene')"
   ]
  },
  {
   "cell_type": "code",
   "execution_count": 233,
   "id": "0c7fbe20-b181-4868-8216-93de824be786",
   "metadata": {},
   "outputs": [],
   "source": [
    "udaljenost['blizu']=fuzz.trimf(udaljenost.universe, [0,0,50])\n",
    "udaljenost['srednje']=fuzz.trimf(udaljenost.universe, [30,100,200])\n",
    "udaljenost['daleko']=fuzz.trimf(udaljenost.universe, [150,300,500])"
   ]
  },
  {
   "cell_type": "code",
   "execution_count": 234,
   "id": "ed0f8ede-1f45-4aba-ad23-05269df679f5",
   "metadata": {},
   "outputs": [],
   "source": [
    "ugao_ka_prepreci['mali']=fuzz.trimf(ugao_ka_prepreci.universe, [-10,0,10])\n",
    "ugao_ka_prepreci['srednje']=fuzz.trimf(ugao_ka_prepreci.universe, [-90,-45,0])\n",
    "ugao_ka_prepreci['veliki']=fuzz.trimf(ugao_ka_prepreci.universe, [-180,-135,-90])\n",
    "ugao_ka_prepreci['veliki_pozitivan']=fuzz.trimf(ugao_ka_prepreci.universe, [90,135,180])"
   ]
  },
  {
   "cell_type": "code",
   "execution_count": 235,
   "id": "e36828e7-782c-4c80-a3ef-e4f9abe9d7ab",
   "metadata": {},
   "outputs": [],
   "source": [
    "brzina['sporo']=fuzz.trimf(brzina.universe, [0,0,5])\n",
    "brzina['srednje']=fuzz.trimf(brzina.universe, [5,10,15])\n",
    "brzina['brzo']=fuzz.trimf(brzina.universe, [10,20,20])"
   ]
  },
  {
   "cell_type": "code",
   "execution_count": 236,
   "id": "e04e3b84-0c1e-4162-9897-262ce210d09d",
   "metadata": {},
   "outputs": [],
   "source": [
    "ugao_promene['malo']=fuzz.trimf(ugao_promene.universe, [-10,0,10])\n",
    "ugao_promene['srednje']=fuzz.trimf(ugao_promene.universe, [-30,-15,0])\n",
    "ugao_promene['puno']=fuzz.trimf(ugao_promene.universe, [-90,-45,-30])"
   ]
  },
  {
   "cell_type": "code",
   "execution_count": 237,
   "id": "186054b5-7ae6-446a-b0c1-70b99754acaa",
   "metadata": {},
   "outputs": [],
   "source": [
    "rule1=ctrl.Rule(udaljenost['blizu'] & ugao_ka_prepreci['mali'], [brzina['sporo'],ugao_promene['puno']])\n",
    "rule2=ctrl.Rule(udaljenost['blizu'] & ugao_ka_prepreci['srednje'], [brzina['sporo'],ugao_promene['srednje']])\n",
    "rule3=ctrl.Rule(udaljenost['blizu'] & ugao_ka_prepreci['veliki'], [brzina['sporo'],ugao_promene['malo']])\n",
    "\n",
    "rule4=ctrl.Rule(udaljenost['srednje'] & ugao_ka_prepreci['mali'], [brzina['srednje'],ugao_promene['malo']])\n",
    "rule5=ctrl.Rule(udaljenost['srednje'] & ugao_ka_prepreci['srednje'], [brzina['srednje'],ugao_promene['srednje']])\n",
    "rule6=ctrl.Rule(udaljenost['srednje'] & ugao_ka_prepreci['veliki'], [brzina['srednje'],ugao_promene['puno']])\n",
    "\n",
    "rule7=ctrl.Rule(udaljenost['daleko'] & ugao_ka_prepreci['mali'], [brzina['brzo'],ugao_promene['malo']])\n",
    "rule8=ctrl.Rule(udaljenost['daleko'] & ugao_ka_prepreci['srednje'], [brzina['brzo'],ugao_promene['srednje']])\n",
    "rule9=ctrl.Rule(udaljenost['daleko'] & ugao_ka_prepreci['veliki'], [brzina['brzo'],ugao_promene['puno']])\n"
   ]
  },
  {
   "cell_type": "code",
   "execution_count": 238,
   "id": "819ab8a7-c3fa-4f3e-a9b8-da13b950fffe",
   "metadata": {},
   "outputs": [],
   "source": [
    "brzina_ctrl=ctrl.ControlSystem([rule1, rule2, rule3, rule4, rule5, rule6, rule7, rule8,rule9])\n",
    "brzina_sim=ctrl.ControlSystemSimulation(brzina_ctrl)"
   ]
  },
  {
   "cell_type": "code",
   "execution_count": 239,
   "id": "7d40098d-bc12-46c2-8a8f-ee150138cc10",
   "metadata": {},
   "outputs": [],
   "source": [
    "#def izbegni_prepreke(x_uav,y_uav,prepreke):\n",
    "    #udaljenosti = udaljenost_do_prepreka(x_uav,y_uav,prepreke)\n",
    "    #min_udaljenost=min(udaljenost)\n",
    "    #izbegavanje_sim.input['udaljenost']=min_udaljenost\n",
    "    #izbegavanje_sim.compute()\n",
    "    #return izbegavanje_sim.output['promena_smera']"
   ]
  },
  {
   "cell_type": "code",
   "execution_count": 240,
   "id": "a3472935-9a15-4292-b20b-53d13a06dd3b",
   "metadata": {},
   "outputs": [],
   "source": [
    "x=0\n",
    "y=0\n",
    "max_time=100"
   ]
  },
  {
   "cell_type": "code",
   "execution_count": 241,
   "id": "501b5e16-ce7a-40cb-b748-1678e2c9e554",
   "metadata": {},
   "outputs": [],
   "source": [
    "putanja_x=[x]\n",
    "putanja_y=[y]\n",
    "#pravac=[theta_uav]"
   ]
  },
  {
   "cell_type": "code",
   "execution_count": 242,
   "id": "e9d261db-ef7c-49c3-8b00-a15277563461",
   "metadata": {},
   "outputs": [],
   "source": [
    "for t in range(0, max_time):\n",
    "    udaljenosti=udaljenost_do_prepreka(x,y,prepreke)\n",
    "    najbliza_udaljenost=min(udaljenosti)\n",
    "    index_najblize=udaljenosti.index(najbliza_udaljenost)\n",
    "    prepreka_x, prepreka_y = prepreke[index_najblize]\n",
    "    ugao_ka_prepreci_vrednost=np.degrees(np.arctan2(prepreka_y-y, prepreka_x-x))\n",
    "    brzina_sim.input['udaljenost']=najbliza_udaljenost\n",
    "    brzina_sim.input['ugao_ka_prepreci']=ugao_ka_prepreci_vrednost\n",
    "    if 0<=najbliza_udaljenost<=500 and -180<=ugao_ka_prepreci_vrednost<=180:\n",
    "        brzina_sim.compute()\n",
    "        brzina_output=brzina_sim.output.get('brzina',0)\n",
    "        ugao_promene_output=brzina_sim.output.get('ugao_promene',0)\n",
    "    else:\n",
    "        print('GRESKAAAA!')\n",
    "        brzina_output=0\n",
    "        ugao_promene_output=0\n",
    "    ugao_radiani=np.radians(ugao_promene_output)\n",
    "    x+=brzina_output*np.cos(ugao_radiani)\n",
    "    y+=brzina_output*np.sin(ugao_radiani)\n",
    "    putanja_x.append(x)\n",
    "    putanja_y.append(y)"
   ]
  },
  {
   "cell_type": "code",
   "execution_count": 243,
   "id": "a58a3688-fdd7-44a2-abf2-c0375611ed87",
   "metadata": {},
   "outputs": [
    {
     "data": {
      "image/png": "[encoded data removed]",
      "text/plain": [
       "<Figure size 1000x600 with 1 Axes>"
      ]
     },
     "metadata": {},
     "output_type": "display_data"
    }
   ],
   "source": [
    "plt.figure(figsize=(10,6))\n",
    "for prepreka in prepreke:\n",
    "    plt.scatter(prepreka[0], prepreka[1], color='red', s=100, label='Prepreka')\n",
    "plt.plot(putanja_x, putanja_y, label='Putanja UAV-a', color='blue')\n",
    "#plt.quiver(putanja_x[-1], putanja_y[-1], np.cos(theta_uav), np.sin(theta_uav), angles='xy', scale_units='xy', scale=1, color='purple', label='pravac')\n",
    "#plt.xslim(0,20)\n",
    "#plt.yslim(0,20)\n",
    "plt.xlabel('x pozicija')\n",
    "plt.ylabel('y pozicija')\n",
    "plt.title('Putanja UAV-a sa izbegavanjem prepreka')\n",
    "plt.legend()\n",
    "plt.grid(True)\n",
    "plt.show()"
   ]
  },
  {
   "cell_type": "code",
   "execution_count": null,
   "id": "b2f00500-0cea-40c5-8464-42d301c2a065",
   "metadata": {},
   "outputs": [],
   "source": []
  }
 ],
 "metadata": {
  "kernelspec": {
   "display_name": "Python 3 (ipykernel)",
   "language": "python",
   "name": "python3"
  },
  "language_info": {
   "codemirror_mode": {
    "name": "ipython",
    "version": 3
   },
   "file_extension": ".py",
   "mimetype": "text/x-python",
   "name": "python",
   "nbconvert_exporter": "python",
   "pygments_lexer": "ipython3",
   "version": "3.10.12"
  }
 },
 "nbformat": 4,
 "nbformat_minor": 5
}
